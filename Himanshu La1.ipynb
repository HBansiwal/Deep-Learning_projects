{
 "cells": [
  {
   "cell_type": "code",
   "execution_count": 18,
   "metadata": {},
   "outputs": [],
   "source": [
    "import numpy as np\n",
    "import pandas as pd\n",
    "from sklearn.model_selection import train_test_split"
   ]
  },
  {
   "cell_type": "code",
   "execution_count": 19,
   "metadata": {
    "scrolled": true
   },
   "outputs": [],
   "source": [
    "data = np.asarray(pd.read_csv(\"D:\\data1.csv\", header = None))\n",
    "label = np.asarray(pd.read_csv(\"D:\\label1.csv\", header = None))"
   ]
  },
  {
   "cell_type": "code",
   "execution_count": 20,
   "metadata": {},
   "outputs": [],
   "source": [
    "labele = np.eye(5)[label]\n",
    "labels = np.reshape(labele,(20000,5))\n",
    "\n"
   ]
  },
  {
   "cell_type": "code",
   "execution_count": 21,
   "metadata": {},
   "outputs": [],
   "source": [
    "X_train, X_test = train_test_split(data, train_size=0.8,test_size=0.2, random_state=1)\n",
    "X_validation, X_test = train_test_split(X_test, test_size=0.5, random_state=1)\n",
    "X_labeltrain,X_labeltest = train_test_split(labels, train_size=0.8,test_size=0.2, random_state=1)\n",
    "X_labelvalidation, X_labeltest = train_test_split(X_labeltest, test_size=0.5, random_state=1)"
   ]
  },
  {
   "cell_type": "code",
   "execution_count": 22,
   "metadata": {
    "scrolled": true
   },
   "outputs": [],
   "source": [
    "h=10\n",
    "def Xavier(pre,nex):\n",
    "        mat=np.random.normal(0,1/np.sqrt(pre),(pre,nex))\n",
    "        return mat\n",
    "def biases(nex):\n",
    "        bias = np.zeros(nex,dtype=np.int)\n",
    "        return bias\n",
    "def active(inp,check):\n",
    "    if(check==0):\n",
    "        act1 = np.tanh(inp)\n",
    "    elif(check==1):\n",
    "        act1 = 1/(1+np.exp(-inp))\n",
    "    elif(check==2):\n",
    "        act1 = max(0,inp)\n",
    "    elif(check==3):\n",
    "        temp=np.exp(inp)\n",
    "        act1 = temp/np.sum(temp,axis=1,keepdims=True)\n",
    "    \n",
    "    return act1"
   ]
  },
  {
   "cell_type": "code",
   "execution_count": 23,
   "metadata": {},
   "outputs": [],
   "source": [
    "b1=np.zeros(h)\n",
    "b2=np.zeros(5)"
   ]
  },
  {
   "cell_type": "code",
   "execution_count": 24,
   "metadata": {
    "scrolled": false
   },
   "outputs": [],
   "source": [
    "w1=Xavier(20,h)\n",
    "b1=biases(h)\n",
    "w2=Xavier(h,5)\n",
    "b2=biases(5)"
   ]
  },
  {
   "cell_type": "code",
   "execution_count": 25,
   "metadata": {},
   "outputs": [],
   "source": [
    "def costFunc(y,t):\n",
    "    return -(t*(np.log(y))+(1-t)*np.log(1-y))/1000"
   ]
  },
  {
   "cell_type": "code",
   "execution_count": 26,
   "metadata": {},
   "outputs": [],
   "source": [
    "\n",
    "def accuracyFunc(output,labelData,dataSize):\n",
    "    maxInRow=np.argmax(output, axis=1)\n",
    "    \n",
    "    maxInLabels=np.argmax(labelData, axis=1)\n",
    "    diff=np.equal(maxInRow,maxInLabels)\n",
    "    count=np.sum(diff)\n",
    "    #count=0\n",
    "    #for l in range(16000):\n",
    "    #    if maxInRow[l]==maxInLabels[l]:\n",
    "    #        count=count+1\n",
    "    return (count/dataSize)*100"
   ]
  },
  {
   "cell_type": "code",
   "execution_count": 27,
   "metadata": {},
   "outputs": [],
   "source": [
    "batch = 1000\n",
    "lr = 1e-4"
   ]
  },
  {
   "cell_type": "code",
   "execution_count": null,
   "metadata": {
    "scrolled": true
   },
   "outputs": [
    {
     "name": "stdout",
     "output_type": "stream",
     "text": [
      "cost\n",
      "0.00200964984543\n",
      "training accuracy\n",
      "49.50625\n",
      "cost\n",
      "0.00174423772302\n",
      "training accuracy\n",
      "62.78125\n",
      "cost\n",
      "0.00158792882614\n",
      "training accuracy\n",
      "68.65\n",
      "cost\n",
      "0.00148131061284\n",
      "training accuracy\n",
      "71.73125\n",
      "cost\n",
      "0.00140305917084\n",
      "training accuracy\n",
      "73.5625\n",
      "cost\n",
      "0.00134209624036\n",
      "training accuracy\n",
      "75.04375\n",
      "cost\n",
      "0.0012922056499\n",
      "training accuracy\n",
      "76.08125\n",
      "cost\n",
      "0.00124981153581\n",
      "training accuracy\n",
      "77.03125\n",
      "cost\n",
      "0.00121277362713\n",
      "training accuracy\n",
      "77.8\n",
      "cost\n",
      "0.00117975571487\n",
      "training accuracy\n",
      "78.275\n",
      "cost\n",
      "0.00114989322295\n",
      "training accuracy\n",
      "79.05625\n",
      "cost\n",
      "0.0011226114632\n",
      "training accuracy\n",
      "79.525\n",
      "cost\n",
      "0.00109752293407\n",
      "training accuracy\n",
      "80.05\n",
      "cost\n",
      "0.00107436508206\n",
      "training accuracy\n",
      "80.49375\n",
      "cost\n",
      "0.00105295667828\n",
      "training accuracy\n",
      "80.80625\n",
      "cost\n",
      "0.0010331631364\n",
      "training accuracy\n",
      "81.23125\n",
      "cost\n",
      "0.00101486926011\n",
      "training accuracy\n",
      "81.41875\n",
      "cost\n",
      "0.000997961415903\n",
      "training accuracy\n",
      "81.675\n",
      "cost\n",
      "0.000982320569012\n",
      "training accuracy\n",
      "81.875\n",
      "cost\n",
      "0.00096782431551\n",
      "training accuracy\n",
      "82.075\n",
      "cost\n",
      "0.000954353112551\n",
      "training accuracy\n",
      "82.34375\n",
      "cost\n",
      "0.000941796083575\n",
      "training accuracy\n",
      "82.5875\n",
      "cost\n",
      "0.000930054233534\n",
      "training accuracy\n",
      "82.83125\n",
      "cost\n",
      "0.000919041141106\n",
      "training accuracy\n",
      "83.06875\n",
      "cost\n",
      "0.000908682093245\n",
      "training accuracy\n",
      "83.275\n",
      "cost\n",
      "0.000898912576236\n",
      "training accuracy\n",
      "83.4\n",
      "cost\n",
      "0.000889676685731\n",
      "training accuracy\n",
      "83.55\n"
     ]
    }
   ],
   "source": [
    "w1=Xavier(20,h)\n",
    "b1=biases(h)\n",
    "w2=Xavier(h,5)\n",
    "b2=biases(5)\n",
    "for j in range(100):\n",
    "    for i in range(16):\n",
    "        a0=X_train[(i*1000):(i+1)*1000][:]\n",
    "        z1=np.dot(a0,w1) +b1\n",
    "        a1=active(z1,0)    \n",
    "        z2=np.dot(a1,w2)\n",
    "        a2=active(z2,3)\n",
    "        y=a2\n",
    "        labeldivide=X_labeltrain[(i*1000):(i+1)*1000][:]\n",
    "        del2=(y-labeldivide)\n",
    "        del1=np.dot(del2,w2.T)*(1-a1**2)\n",
    "        dcdw1=np.dot(a0.T,del1)\n",
    "        dcdw2=np.dot(a1.T,del2)\n",
    "        dcdb1=np.sum((del1),axis=0)\n",
    "        dcdb2=np.sum((del2),axis=0)\n",
    "        w1=w1-lr*(dcdw1)\n",
    "        w2=w2-lr*(dcdw2)\n",
    "        b1=b1-lr*(dcdb1)\n",
    "        b2=b2-lr*(dcdb2)\n",
    "    z_1=np.dot(X_train,w1) +b1\n",
    "    a_1=active(z_1,0)    \n",
    "    z_2=np.dot(a_1,w2)\n",
    "    a_2=active(z_2,3)\n",
    "    y=a_2\n",
    "    cost = np.sum(costFunc(y,X_labeltrain))/(16000.0)\n",
    "    accuracy=accuracyFunc(y,X_labeltrain,16000.0)\n",
    "    print(\"cost\")\n",
    "    print(cost)\n",
    "    print(\"training accuracy\")\n",
    "    print(accuracy)\n",
    "    \n",
    "tz_1=np.dot(X_test,w1) +b1\n",
    "ta_1=active(tz_1,0)    \n",
    "tz_2=np.dot(ta_1,w2)\n",
    "ta_2=active(tz_2,3)\n",
    "ty=ta_2\n",
    "accuracy_test=accuracyFunc(ty,X_labeltest,2000.0)\n",
    "print(\"test accuracy\")\n",
    "print(accuracy_test)\n",
    "\n",
    "    "
   ]
  },
  {
   "cell_type": "code",
   "execution_count": null,
   "metadata": {},
   "outputs": [],
   "source": []
  },
  {
   "cell_type": "code",
   "execution_count": 4,
   "metadata": {},
   "outputs": [],
   "source": []
  },
  {
   "cell_type": "code",
   "execution_count": null,
   "metadata": {},
   "outputs": [],
   "source": []
  }
 ],
 "metadata": {
  "kernelspec": {
   "display_name": "Python 3",
   "language": "python",
   "name": "python3"
  },
  "language_info": {
   "codemirror_mode": {
    "name": "ipython",
    "version": 3
   },
   "file_extension": ".py",
   "mimetype": "text/x-python",
   "name": "python",
   "nbconvert_exporter": "python",
   "pygments_lexer": "ipython3",
   "version": "3.6.4"
  }
 },
 "nbformat": 4,
 "nbformat_minor": 2
}
